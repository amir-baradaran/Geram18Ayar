{
  "nbformat": 4,
  "nbformat_minor": 0,
  "metadata": {
    "colab": {
      "provenance": [],
      "authorship_tag": "ABX9TyOtsIqFy/bK1F9o2VOYm3PD",
      "include_colab_link": true
    },
    "kernelspec": {
      "name": "python3",
      "display_name": "Python 3"
    },
    "language_info": {
      "name": "python"
    },
    "accelerator": "GPU",
    "gpuClass": "standard"
  },
  "cells": [
    {
      "cell_type": "markdown",
      "metadata": {
        "id": "view-in-github",
        "colab_type": "text"
      },
      "source": [
        "<a href=\"https://colab.research.google.com/github/amir-baradaran/Geram18Ayar/blob/main/Gold_LSTM.ipynb\" target=\"_parent\"><img src=\"https://colab.research.google.com/assets/colab-badge.svg\" alt=\"Open In Colab\"/></a>"
      ]
    },
    {
      "cell_type": "code",
      "execution_count": 4,
      "metadata": {
        "id": "zlYv5vcgu65B"
      },
      "outputs": [],
      "source": [
        "'''\n",
        "!pip install bs4\n",
        "!pip install pmdarima\n",
        "'''\n",
        "import pandas as pd\n",
        "import numpy as np\n",
        "import matplotlib.pyplot as plt\n",
        "import math\n",
        "from sklearn.preprocessing import MinMaxScaler\n",
        "from keras.models import Sequential\n",
        "from keras.layers import Dense,LSTM\n",
        "from bs4 import BeautifulSoup\n",
        "\n",
        "import seaborn as sns\n",
        "from math import sqrt\n",
        "from statsmodels.tsa.arima.model import ARIMA\n",
        "from pmdarima import auto_arima\n",
        "from statsmodels.tsa.stattools import adfuller\n",
        "from pmdarima.arima.utils import ndiffs\n",
        "from sklearn.metrics import mean_squared_error, mean_absolute_error\n",
        "import statsmodels.api as sm\n",
        "import os\n",
        "import datetime\n",
        "plt.style.use('fivethirtyeight')\n"
      ]
    },
    {
      "cell_type": "markdown",
      "source": [
        "Geram18Ayar price prediction by LSTM"
      ],
      "metadata": {
        "id": "vwn7BGdQwdSu"
      }
    },
    {
      "cell_type": "code",
      "source": [
        "from google.colab import files\n",
        "uploaded=files.upload()"
      ],
      "metadata": {
        "id": "ZBGHwHsuZpnD",
        "colab": {
          "base_uri": "https://localhost:8080/",
          "height": 73
        },
        "outputId": "8654ead8-519d-42a9-d7f5-5328e776dcb6"
      },
      "execution_count": 479,
      "outputs": [
        {
          "output_type": "display_data",
          "data": {
            "text/plain": [
              "<IPython.core.display.HTML object>"
            ],
            "text/html": [
              "\n",
              "     <input type=\"file\" id=\"files-9e97dde6-ddf9-4339-9b82-c2a1aafa8871\" name=\"files[]\" multiple disabled\n",
              "        style=\"border:none\" />\n",
              "     <output id=\"result-9e97dde6-ddf9-4339-9b82-c2a1aafa8871\">\n",
              "      Upload widget is only available when the cell has been executed in the\n",
              "      current browser session. Please rerun this cell to enable.\n",
              "      </output>\n",
              "      <script>// Copyright 2017 Google LLC\n",
              "//\n",
              "// Licensed under the Apache License, Version 2.0 (the \"License\");\n",
              "// you may not use this file except in compliance with the License.\n",
              "// You may obtain a copy of the License at\n",
              "//\n",
              "//      http://www.apache.org/licenses/LICENSE-2.0\n",
              "//\n",
              "// Unless required by applicable law or agreed to in writing, software\n",
              "// distributed under the License is distributed on an \"AS IS\" BASIS,\n",
              "// WITHOUT WARRANTIES OR CONDITIONS OF ANY KIND, either express or implied.\n",
              "// See the License for the specific language governing permissions and\n",
              "// limitations under the License.\n",
              "\n",
              "/**\n",
              " * @fileoverview Helpers for google.colab Python module.\n",
              " */\n",
              "(function(scope) {\n",
              "function span(text, styleAttributes = {}) {\n",
              "  const element = document.createElement('span');\n",
              "  element.textContent = text;\n",
              "  for (const key of Object.keys(styleAttributes)) {\n",
              "    element.style[key] = styleAttributes[key];\n",
              "  }\n",
              "  return element;\n",
              "}\n",
              "\n",
              "// Max number of bytes which will be uploaded at a time.\n",
              "const MAX_PAYLOAD_SIZE = 100 * 1024;\n",
              "\n",
              "function _uploadFiles(inputId, outputId) {\n",
              "  const steps = uploadFilesStep(inputId, outputId);\n",
              "  const outputElement = document.getElementById(outputId);\n",
              "  // Cache steps on the outputElement to make it available for the next call\n",
              "  // to uploadFilesContinue from Python.\n",
              "  outputElement.steps = steps;\n",
              "\n",
              "  return _uploadFilesContinue(outputId);\n",
              "}\n",
              "\n",
              "// This is roughly an async generator (not supported in the browser yet),\n",
              "// where there are multiple asynchronous steps and the Python side is going\n",
              "// to poll for completion of each step.\n",
              "// This uses a Promise to block the python side on completion of each step,\n",
              "// then passes the result of the previous step as the input to the next step.\n",
              "function _uploadFilesContinue(outputId) {\n",
              "  const outputElement = document.getElementById(outputId);\n",
              "  const steps = outputElement.steps;\n",
              "\n",
              "  const next = steps.next(outputElement.lastPromiseValue);\n",
              "  return Promise.resolve(next.value.promise).then((value) => {\n",
              "    // Cache the last promise value to make it available to the next\n",
              "    // step of the generator.\n",
              "    outputElement.lastPromiseValue = value;\n",
              "    return next.value.response;\n",
              "  });\n",
              "}\n",
              "\n",
              "/**\n",
              " * Generator function which is called between each async step of the upload\n",
              " * process.\n",
              " * @param {string} inputId Element ID of the input file picker element.\n",
              " * @param {string} outputId Element ID of the output display.\n",
              " * @return {!Iterable<!Object>} Iterable of next steps.\n",
              " */\n",
              "function* uploadFilesStep(inputId, outputId) {\n",
              "  const inputElement = document.getElementById(inputId);\n",
              "  inputElement.disabled = false;\n",
              "\n",
              "  const outputElement = document.getElementById(outputId);\n",
              "  outputElement.innerHTML = '';\n",
              "\n",
              "  const pickedPromise = new Promise((resolve) => {\n",
              "    inputElement.addEventListener('change', (e) => {\n",
              "      resolve(e.target.files);\n",
              "    });\n",
              "  });\n",
              "\n",
              "  const cancel = document.createElement('button');\n",
              "  inputElement.parentElement.appendChild(cancel);\n",
              "  cancel.textContent = 'Cancel upload';\n",
              "  const cancelPromise = new Promise((resolve) => {\n",
              "    cancel.onclick = () => {\n",
              "      resolve(null);\n",
              "    };\n",
              "  });\n",
              "\n",
              "  // Wait for the user to pick the files.\n",
              "  const files = yield {\n",
              "    promise: Promise.race([pickedPromise, cancelPromise]),\n",
              "    response: {\n",
              "      action: 'starting',\n",
              "    }\n",
              "  };\n",
              "\n",
              "  cancel.remove();\n",
              "\n",
              "  // Disable the input element since further picks are not allowed.\n",
              "  inputElement.disabled = true;\n",
              "\n",
              "  if (!files) {\n",
              "    return {\n",
              "      response: {\n",
              "        action: 'complete',\n",
              "      }\n",
              "    };\n",
              "  }\n",
              "\n",
              "  for (const file of files) {\n",
              "    const li = document.createElement('li');\n",
              "    li.append(span(file.name, {fontWeight: 'bold'}));\n",
              "    li.append(span(\n",
              "        `(${file.type || 'n/a'}) - ${file.size} bytes, ` +\n",
              "        `last modified: ${\n",
              "            file.lastModifiedDate ? file.lastModifiedDate.toLocaleDateString() :\n",
              "                                    'n/a'} - `));\n",
              "    const percent = span('0% done');\n",
              "    li.appendChild(percent);\n",
              "\n",
              "    outputElement.appendChild(li);\n",
              "\n",
              "    const fileDataPromise = new Promise((resolve) => {\n",
              "      const reader = new FileReader();\n",
              "      reader.onload = (e) => {\n",
              "        resolve(e.target.result);\n",
              "      };\n",
              "      reader.readAsArrayBuffer(file);\n",
              "    });\n",
              "    // Wait for the data to be ready.\n",
              "    let fileData = yield {\n",
              "      promise: fileDataPromise,\n",
              "      response: {\n",
              "        action: 'continue',\n",
              "      }\n",
              "    };\n",
              "\n",
              "    // Use a chunked sending to avoid message size limits. See b/62115660.\n",
              "    let position = 0;\n",
              "    do {\n",
              "      const length = Math.min(fileData.byteLength - position, MAX_PAYLOAD_SIZE);\n",
              "      const chunk = new Uint8Array(fileData, position, length);\n",
              "      position += length;\n",
              "\n",
              "      const base64 = btoa(String.fromCharCode.apply(null, chunk));\n",
              "      yield {\n",
              "        response: {\n",
              "          action: 'append',\n",
              "          file: file.name,\n",
              "          data: base64,\n",
              "        },\n",
              "      };\n",
              "\n",
              "      let percentDone = fileData.byteLength === 0 ?\n",
              "          100 :\n",
              "          Math.round((position / fileData.byteLength) * 100);\n",
              "      percent.textContent = `${percentDone}% done`;\n",
              "\n",
              "    } while (position < fileData.byteLength);\n",
              "  }\n",
              "\n",
              "  // All done.\n",
              "  yield {\n",
              "    response: {\n",
              "      action: 'complete',\n",
              "    }\n",
              "  };\n",
              "}\n",
              "\n",
              "scope.google = scope.google || {};\n",
              "scope.google.colab = scope.google.colab || {};\n",
              "scope.google.colab._files = {\n",
              "  _uploadFiles,\n",
              "  _uploadFilesContinue,\n",
              "};\n",
              "})(self);\n",
              "</script> "
            ]
          },
          "metadata": {}
        },
        {
          "output_type": "stream",
          "name": "stdout",
          "text": [
            "Saving all_data.csv to all_data.csv\n"
          ]
        }
      ]
    },
    {
      "cell_type": "code",
      "source": [
        "df=pd.read_csv('all_data.csv')\n",
        "df=df.set_index(pd.DatetimeIndex(df['Date'].values))\n",
        "df"
      ],
      "metadata": {
        "colab": {
          "base_uri": "https://localhost:8080/",
          "height": 423
        },
        "outputId": "c5a2bef6-8f5a-4557-855d-ec3f740908bd",
        "id": "toZQPu41vsnu"
      },
      "execution_count": 480,
      "outputs": [
        {
          "output_type": "execute_result",
          "data": {
            "text/plain": [
              "                  Name       Date      Open      High       Low     Close  \\\n",
              "2013-04-16  Gram18Ayar  4/16/2013   1246600   1251200   1230400   1246600   \n",
              "2013-04-17  Gram18Ayar  4/17/2013   1244300   1248900   1237400   1246600   \n",
              "2013-04-20  Gram18Ayar  4/20/2013   1253500   1261600   1250100   1253500   \n",
              "2013-04-21  Gram18Ayar  4/21/2013   1254700   1272000   1254200   1272000   \n",
              "2013-04-22  Gram18Ayar  4/22/2013   1278900   1306600   1275500   1289300   \n",
              "...                ...        ...       ...       ...       ...       ...   \n",
              "2023-03-12  Gram18Ayar  3/12/2023  20661200  21342200  19691600  19968600   \n",
              "2023-03-13  Gram18Ayar  3/13/2023  20845800  21873100  20845800  21700000   \n",
              "2023-03-14  Gram18Ayar  3/14/2023  22000100  23177400  22000100  22715700   \n",
              "2023-03-15  Gram18Ayar  3/15/2023  23108200  23223600  22484900  23165900   \n",
              "2023-03-18  Gram18Ayar  3/18/2023  23916100  24377800  23846900  24377800   \n",
              "\n",
              "           Period Unnamed: 7  Unnamed: 8  \n",
              "2013-04-16      D    92/1/27         NaN  \n",
              "2013-04-17      D        NaN         NaN  \n",
              "2013-04-20      D        NaN         NaN  \n",
              "2013-04-21      D     92/2/1         NaN  \n",
              "2013-04-22      D        NaN         NaN  \n",
              "...           ...        ...         ...  \n",
              "2023-03-12      D        NaN         NaN  \n",
              "2023-03-13      D        NaN         NaN  \n",
              "2023-03-14      D        NaN         NaN  \n",
              "2023-03-15      D        NaN         NaN  \n",
              "2023-03-18      D        NaN         NaN  \n",
              "\n",
              "[2387 rows x 9 columns]"
            ],
            "text/html": [
              "\n",
              "  <div id=\"df-c573c669-3801-43e9-a270-fc2ea9f1ba24\">\n",
              "    <div class=\"colab-df-container\">\n",
              "      <div>\n",
              "<style scoped>\n",
              "    .dataframe tbody tr th:only-of-type {\n",
              "        vertical-align: middle;\n",
              "    }\n",
              "\n",
              "    .dataframe tbody tr th {\n",
              "        vertical-align: top;\n",
              "    }\n",
              "\n",
              "    .dataframe thead th {\n",
              "        text-align: right;\n",
              "    }\n",
              "</style>\n",
              "<table border=\"1\" class=\"dataframe\">\n",
              "  <thead>\n",
              "    <tr style=\"text-align: right;\">\n",
              "      <th></th>\n",
              "      <th>Name</th>\n",
              "      <th>Date</th>\n",
              "      <th>Open</th>\n",
              "      <th>High</th>\n",
              "      <th>Low</th>\n",
              "      <th>Close</th>\n",
              "      <th>Period</th>\n",
              "      <th>Unnamed: 7</th>\n",
              "      <th>Unnamed: 8</th>\n",
              "    </tr>\n",
              "  </thead>\n",
              "  <tbody>\n",
              "    <tr>\n",
              "      <th>2013-04-16</th>\n",
              "      <td>Gram18Ayar</td>\n",
              "      <td>4/16/2013</td>\n",
              "      <td>1246600</td>\n",
              "      <td>1251200</td>\n",
              "      <td>1230400</td>\n",
              "      <td>1246600</td>\n",
              "      <td>D</td>\n",
              "      <td>92/1/27</td>\n",
              "      <td>NaN</td>\n",
              "    </tr>\n",
              "    <tr>\n",
              "      <th>2013-04-17</th>\n",
              "      <td>Gram18Ayar</td>\n",
              "      <td>4/17/2013</td>\n",
              "      <td>1244300</td>\n",
              "      <td>1248900</td>\n",
              "      <td>1237400</td>\n",
              "      <td>1246600</td>\n",
              "      <td>D</td>\n",
              "      <td>NaN</td>\n",
              "      <td>NaN</td>\n",
              "    </tr>\n",
              "    <tr>\n",
              "      <th>2013-04-20</th>\n",
              "      <td>Gram18Ayar</td>\n",
              "      <td>4/20/2013</td>\n",
              "      <td>1253500</td>\n",
              "      <td>1261600</td>\n",
              "      <td>1250100</td>\n",
              "      <td>1253500</td>\n",
              "      <td>D</td>\n",
              "      <td>NaN</td>\n",
              "      <td>NaN</td>\n",
              "    </tr>\n",
              "    <tr>\n",
              "      <th>2013-04-21</th>\n",
              "      <td>Gram18Ayar</td>\n",
              "      <td>4/21/2013</td>\n",
              "      <td>1254700</td>\n",
              "      <td>1272000</td>\n",
              "      <td>1254200</td>\n",
              "      <td>1272000</td>\n",
              "      <td>D</td>\n",
              "      <td>92/2/1</td>\n",
              "      <td>NaN</td>\n",
              "    </tr>\n",
              "    <tr>\n",
              "      <th>2013-04-22</th>\n",
              "      <td>Gram18Ayar</td>\n",
              "      <td>4/22/2013</td>\n",
              "      <td>1278900</td>\n",
              "      <td>1306600</td>\n",
              "      <td>1275500</td>\n",
              "      <td>1289300</td>\n",
              "      <td>D</td>\n",
              "      <td>NaN</td>\n",
              "      <td>NaN</td>\n",
              "    </tr>\n",
              "    <tr>\n",
              "      <th>...</th>\n",
              "      <td>...</td>\n",
              "      <td>...</td>\n",
              "      <td>...</td>\n",
              "      <td>...</td>\n",
              "      <td>...</td>\n",
              "      <td>...</td>\n",
              "      <td>...</td>\n",
              "      <td>...</td>\n",
              "      <td>...</td>\n",
              "    </tr>\n",
              "    <tr>\n",
              "      <th>2023-03-12</th>\n",
              "      <td>Gram18Ayar</td>\n",
              "      <td>3/12/2023</td>\n",
              "      <td>20661200</td>\n",
              "      <td>21342200</td>\n",
              "      <td>19691600</td>\n",
              "      <td>19968600</td>\n",
              "      <td>D</td>\n",
              "      <td>NaN</td>\n",
              "      <td>NaN</td>\n",
              "    </tr>\n",
              "    <tr>\n",
              "      <th>2023-03-13</th>\n",
              "      <td>Gram18Ayar</td>\n",
              "      <td>3/13/2023</td>\n",
              "      <td>20845800</td>\n",
              "      <td>21873100</td>\n",
              "      <td>20845800</td>\n",
              "      <td>21700000</td>\n",
              "      <td>D</td>\n",
              "      <td>NaN</td>\n",
              "      <td>NaN</td>\n",
              "    </tr>\n",
              "    <tr>\n",
              "      <th>2023-03-14</th>\n",
              "      <td>Gram18Ayar</td>\n",
              "      <td>3/14/2023</td>\n",
              "      <td>22000100</td>\n",
              "      <td>23177400</td>\n",
              "      <td>22000100</td>\n",
              "      <td>22715700</td>\n",
              "      <td>D</td>\n",
              "      <td>NaN</td>\n",
              "      <td>NaN</td>\n",
              "    </tr>\n",
              "    <tr>\n",
              "      <th>2023-03-15</th>\n",
              "      <td>Gram18Ayar</td>\n",
              "      <td>3/15/2023</td>\n",
              "      <td>23108200</td>\n",
              "      <td>23223600</td>\n",
              "      <td>22484900</td>\n",
              "      <td>23165900</td>\n",
              "      <td>D</td>\n",
              "      <td>NaN</td>\n",
              "      <td>NaN</td>\n",
              "    </tr>\n",
              "    <tr>\n",
              "      <th>2023-03-18</th>\n",
              "      <td>Gram18Ayar</td>\n",
              "      <td>3/18/2023</td>\n",
              "      <td>23916100</td>\n",
              "      <td>24377800</td>\n",
              "      <td>23846900</td>\n",
              "      <td>24377800</td>\n",
              "      <td>D</td>\n",
              "      <td>NaN</td>\n",
              "      <td>NaN</td>\n",
              "    </tr>\n",
              "  </tbody>\n",
              "</table>\n",
              "<p>2387 rows × 9 columns</p>\n",
              "</div>\n",
              "      <button class=\"colab-df-convert\" onclick=\"convertToInteractive('df-c573c669-3801-43e9-a270-fc2ea9f1ba24')\"\n",
              "              title=\"Convert this dataframe to an interactive table.\"\n",
              "              style=\"display:none;\">\n",
              "        \n",
              "  <svg xmlns=\"http://www.w3.org/2000/svg\" height=\"24px\"viewBox=\"0 0 24 24\"\n",
              "       width=\"24px\">\n",
              "    <path d=\"M0 0h24v24H0V0z\" fill=\"none\"/>\n",
              "    <path d=\"M18.56 5.44l.94 2.06.94-2.06 2.06-.94-2.06-.94-.94-2.06-.94 2.06-2.06.94zm-11 1L8.5 8.5l.94-2.06 2.06-.94-2.06-.94L8.5 2.5l-.94 2.06-2.06.94zm10 10l.94 2.06.94-2.06 2.06-.94-2.06-.94-.94-2.06-.94 2.06-2.06.94z\"/><path d=\"M17.41 7.96l-1.37-1.37c-.4-.4-.92-.59-1.43-.59-.52 0-1.04.2-1.43.59L10.3 9.45l-7.72 7.72c-.78.78-.78 2.05 0 2.83L4 21.41c.39.39.9.59 1.41.59.51 0 1.02-.2 1.41-.59l7.78-7.78 2.81-2.81c.8-.78.8-2.07 0-2.86zM5.41 20L4 18.59l7.72-7.72 1.47 1.35L5.41 20z\"/>\n",
              "  </svg>\n",
              "      </button>\n",
              "      \n",
              "  <style>\n",
              "    .colab-df-container {\n",
              "      display:flex;\n",
              "      flex-wrap:wrap;\n",
              "      gap: 12px;\n",
              "    }\n",
              "\n",
              "    .colab-df-convert {\n",
              "      background-color: #E8F0FE;\n",
              "      border: none;\n",
              "      border-radius: 50%;\n",
              "      cursor: pointer;\n",
              "      display: none;\n",
              "      fill: #1967D2;\n",
              "      height: 32px;\n",
              "      padding: 0 0 0 0;\n",
              "      width: 32px;\n",
              "    }\n",
              "\n",
              "    .colab-df-convert:hover {\n",
              "      background-color: #E2EBFA;\n",
              "      box-shadow: 0px 1px 2px rgba(60, 64, 67, 0.3), 0px 1px 3px 1px rgba(60, 64, 67, 0.15);\n",
              "      fill: #174EA6;\n",
              "    }\n",
              "\n",
              "    [theme=dark] .colab-df-convert {\n",
              "      background-color: #3B4455;\n",
              "      fill: #D2E3FC;\n",
              "    }\n",
              "\n",
              "    [theme=dark] .colab-df-convert:hover {\n",
              "      background-color: #434B5C;\n",
              "      box-shadow: 0px 1px 3px 1px rgba(0, 0, 0, 0.15);\n",
              "      filter: drop-shadow(0px 1px 2px rgba(0, 0, 0, 0.3));\n",
              "      fill: #FFFFFF;\n",
              "    }\n",
              "  </style>\n",
              "\n",
              "      <script>\n",
              "        const buttonEl =\n",
              "          document.querySelector('#df-c573c669-3801-43e9-a270-fc2ea9f1ba24 button.colab-df-convert');\n",
              "        buttonEl.style.display =\n",
              "          google.colab.kernel.accessAllowed ? 'block' : 'none';\n",
              "\n",
              "        async function convertToInteractive(key) {\n",
              "          const element = document.querySelector('#df-c573c669-3801-43e9-a270-fc2ea9f1ba24');\n",
              "          const dataTable =\n",
              "            await google.colab.kernel.invokeFunction('convertToInteractive',\n",
              "                                                     [key], {});\n",
              "          if (!dataTable) return;\n",
              "\n",
              "          const docLinkHtml = 'Like what you see? Visit the ' +\n",
              "            '<a target=\"_blank\" href=https://colab.research.google.com/notebooks/data_table.ipynb>data table notebook</a>'\n",
              "            + ' to learn more about interactive tables.';\n",
              "          element.innerHTML = '';\n",
              "          dataTable['output_type'] = 'display_data';\n",
              "          await google.colab.output.renderOutput(dataTable, element);\n",
              "          const docLink = document.createElement('div');\n",
              "          docLink.innerHTML = docLinkHtml;\n",
              "          element.appendChild(docLink);\n",
              "        }\n",
              "      </script>\n",
              "    </div>\n",
              "  </div>\n",
              "  "
            ]
          },
          "metadata": {},
          "execution_count": 480
        }
      ]
    },
    {
      "cell_type": "code",
      "source": [
        "plt.figure(figsize=(16,8))\n",
        "plt.title('Geram 18Ayar')\n",
        "plt.xlabel('Date')\n",
        "plt.ylabel('Price')\n",
        "plt.plot(df['Close'])\n",
        "plt.show()"
      ],
      "metadata": {
        "colab": {
          "base_uri": "https://localhost:8080/",
          "height": 558
        },
        "outputId": "ea2ae572-871a-4410-8e50-8f5e02738d0e",
        "id": "W70RxVNZvsnv"
      },
      "execution_count": 481,
      "outputs": [
        {
          "output_type": "display_data",
          "data": {
            "text/plain": [
              "<Figure size 1152x576 with 1 Axes>"
            ],
            "image/png": "[encoded data removed]"
          },
          "metadata": {}
        }
      ]
    },
    {
      "cell_type": "code",
      "source": [
        "data=df.filter(['Close'])\n",
        "dataset=data.values\n",
        "training_data_len=math.ceil(len(dataset)*0.8)\n",
        "scaler=MinMaxScaler(feature_range=(0,1))\n",
        "scaled_data=scaler.fit_transform(dataset)"
      ],
      "metadata": {
        "id": "RTpp3mD5vsnw"
      },
      "execution_count": 482,
      "outputs": []
    },
    {
      "cell_type": "code",
      "source": [
        "training_data=scaled_data[0:training_data_len , :]"
      ],
      "metadata": {
        "id": "EP8G2BErvsnw"
      },
      "execution_count": 483,
      "outputs": []
    },
    {
      "cell_type": "code",
      "source": [
        "xtrain=[]\n",
        "ytrain=[]\n",
        "n=150"
      ],
      "metadata": {
        "id": "mQNf2-q9vsnw"
      },
      "execution_count": 484,
      "outputs": []
    },
    {
      "cell_type": "code",
      "source": [
        "for i in range(n,len(training_data)):\n",
        "    xtrain.append(training_data[i-n:i , 0])\n",
        "    ytrain.append(training_data[i,0])"
      ],
      "metadata": {
        "id": "_rMWYrNOvsnx"
      },
      "execution_count": 485,
      "outputs": []
    },
    {
      "cell_type": "code",
      "source": [
        "xtrain , ytrain = np.array(xtrain),np.array(ytrain)"
      ],
      "metadata": {
        "id": "YVbzVgm2vsnx"
      },
      "execution_count": 486,
      "outputs": []
    },
    {
      "cell_type": "code",
      "source": [
        "xtrain=np.reshape(xtrain,(xtrain.shape[0],xtrain.shape[1],1))\n",
        "xtrain.shape"
      ],
      "metadata": {
        "colab": {
          "base_uri": "https://localhost:8080/"
        },
        "outputId": "4a72c5aa-ac60-4a50-fcc1-684e912526c5",
        "id": "UHOcmnjMvsnx"
      },
      "execution_count": 487,
      "outputs": [
        {
          "output_type": "execute_result",
          "data": {
            "text/plain": [
              "(1760, 150, 1)"
            ]
          },
          "metadata": {},
          "execution_count": 487
        }
      ]
    },
    {
      "cell_type": "code",
      "source": [
        "model=Sequential()\n",
        "model.add(LSTM(50,return_sequences=True,input_shape=(xtrain.shape[1],1)))\n",
        "model.add(LSTM(50,return_sequences=False))\n",
        "model.add(Dense(25))\n",
        "model.add(Dense(1))"
      ],
      "metadata": {
        "id": "fElhFhvlvsny"
      },
      "execution_count": 488,
      "outputs": []
    },
    {
      "cell_type": "code",
      "source": [
        "model.compile(optimizer='adam',loss='mean_squared_error')\n",
        "model.fit(xtrain,ytrain,batch_size=1,epochs=15)"
      ],
      "metadata": {
        "colab": {
          "base_uri": "https://localhost:8080/"
        },
        "outputId": "02983335-a532-4f50-f7fb-73b563ff956f",
        "id": "9C_T5ZABvsny"
      },
      "execution_count": 489,
      "outputs": [
        {
          "output_type": "stream",
          "name": "stdout",
          "text": [
            "Epoch 1/15\n",
            "1760/1760 [==============================] - 23s 11ms/step - loss: 3.3943e-04\n",
            "Epoch 2/15\n",
            "1760/1760 [==============================] - 19s 11ms/step - loss: 2.8988e-04\n",
            "Epoch 3/15\n",
            "1760/1760 [==============================] - 19s 11ms/step - loss: 1.4076e-04\n",
            "Epoch 4/15\n",
            "1760/1760 [==============================] - 19s 11ms/step - loss: 1.2133e-04\n",
            "Epoch 5/15\n",
            "1760/1760 [==============================] - 19s 11ms/step - loss: 9.9186e-05\n",
            "Epoch 6/15\n",
            "1760/1760 [==============================] - 19s 11ms/step - loss: 1.3649e-04\n",
            "Epoch 7/15\n",
            "1760/1760 [==============================] - 19s 11ms/step - loss: 8.5925e-05\n",
            "Epoch 8/15\n",
            "1760/1760 [==============================] - 19s 11ms/step - loss: 8.9134e-05\n",
            "Epoch 9/15\n",
            "1760/1760 [==============================] - 19s 11ms/step - loss: 7.6830e-05\n",
            "Epoch 10/15\n",
            "1760/1760 [==============================] - 19s 11ms/step - loss: 8.3402e-05\n",
            "Epoch 11/15\n",
            "1760/1760 [==============================] - 19s 11ms/step - loss: 6.7878e-05\n",
            "Epoch 12/15\n",
            "1760/1760 [==============================] - 19s 11ms/step - loss: 5.4978e-05\n",
            "Epoch 13/15\n",
            "1760/1760 [==============================] - 19s 11ms/step - loss: 7.1749e-05\n",
            "Epoch 14/15\n",
            "1760/1760 [==============================] - 19s 11ms/step - loss: 6.8964e-05\n",
            "Epoch 15/15\n",
            "1760/1760 [==============================] - 19s 11ms/step - loss: 6.1434e-05\n"
          ]
        },
        {
          "output_type": "execute_result",
          "data": {
            "text/plain": [
              "<keras.callbacks.History at 0x7fd13d397430>"
            ]
          },
          "metadata": {},
          "execution_count": 489
        }
      ]
    },
    {
      "cell_type": "code",
      "source": [
        "test_data=scaled_data[training_data_len - n : , :]\n",
        "xtest=[]\n",
        "ytest=dataset[training_data_len: , :]\n",
        "for i in range(n,len(test_data)):\n",
        "    xtest.append(test_data[i-n:i,0])  "
      ],
      "metadata": {
        "id": "XWTjKjHGvsny"
      },
      "execution_count": 490,
      "outputs": []
    },
    {
      "cell_type": "code",
      "source": [
        "xtest=np.array(xtest)\n",
        "xtest=np.reshape(xtest,(xtest.shape[0],xtest.shape[1],1))"
      ],
      "metadata": {
        "id": "p2T2mVeivsny"
      },
      "execution_count": 491,
      "outputs": []
    },
    {
      "cell_type": "code",
      "source": [
        "prediction=model.predict(xtest)\n",
        "prediction=scaler.inverse_transform(prediction)\n",
        "rmse =np.sqrt(np.mean(((prediction- ytest)**2)))\n",
        "print(rmse)"
      ],
      "metadata": {
        "colab": {
          "base_uri": "https://localhost:8080/"
        },
        "outputId": "f9ca6033-7132-4fd7-bea3-d3ead892c480",
        "id": "Sn3sBCBovsnz"
      },
      "execution_count": 492,
      "outputs": [
        {
          "output_type": "stream",
          "name": "stdout",
          "text": [
            "15/15 [==============================] - 1s 9ms/step\n",
            "431616.20816670376\n"
          ]
        }
      ]
    },
    {
      "cell_type": "code",
      "source": [
        "train=data[:training_data_len]\n",
        "valid=data[training_data_len:]\n",
        "valid['prediction']=prediction"
      ],
      "metadata": {
        "colab": {
          "base_uri": "https://localhost:8080/"
        },
        "outputId": "88134265-eaf6-4862-cbfe-67253980294d",
        "id": "iew4S3QWvsnz"
      },
      "execution_count": 376,
      "outputs": [
        {
          "output_type": "stream",
          "name": "stderr",
          "text": [
            "<ipython-input-376-345babb7f3ad>:3: SettingWithCopyWarning: \n",
            "A value is trying to be set on a copy of a slice from a DataFrame.\n",
            "Try using .loc[row_indexer,col_indexer] = value instead\n",
            "\n",
            "See the caveats in the documentation: https://pandas.pydata.org/pandas-docs/stable/user_guide/indexing.html#returning-a-view-versus-a-copy\n",
            "  valid['prediction']=prediction\n"
          ]
        }
      ]
    },
    {
      "cell_type": "code",
      "source": [
        "plt.figure(figsize=(16,8))\n",
        "plt.title('BNB PRICE PREDICTOR')\n",
        "plt.xlabel('Date')\n",
        "plt.ylabel('Price')\n",
        "plt.plot(train['Close'])\n",
        "plt.plot(valid[['Close','prediction']])\n",
        "plt.legend(['Train','Value','Prediction'])\n",
        "plt.show()"
      ],
      "metadata": {
        "colab": {
          "base_uri": "https://localhost:8080/",
          "height": 558
        },
        "outputId": "ab68726d-8130-4c12-cfa0-2cf52952b9cd",
        "id": "LfCJeh3Evsnz"
      },
      "execution_count": 377,
      "outputs": [
        {
          "output_type": "display_data",
          "data": {
            "text/plain": [
              "<Figure size 1152x576 with 1 Axes>"
            ],
            "image/png": "[encoded data removed]"
          },
          "metadata": {}
        }
      ]
    },
    {
      "cell_type": "code",
      "source": [
        "forecast_range = 1\n",
        "new_df = df.filter(['Close'])"
      ],
      "metadata": {
        "id": "BASLMIxxvsn0"
      },
      "execution_count": 75,
      "outputs": []
    },
    {
      "cell_type": "code",
      "source": [
        "pred_df = pd.DataFrame()\n",
        "pred_df['Date'] = pd.date_range(start = df.Date.iloc[-1] , periods = forecast_range+1 , closed = 'right')\n",
        "\n",
        "pred_df =pred_df.set_index(pd.DatetimeIndex(pred_df['Date'].values))"
      ],
      "metadata": {
        "colab": {
          "base_uri": "https://localhost:8080/"
        },
        "id": "dXDfrH_6vsn0",
        "outputId": "9651fa25-d5e6-4d18-c6c8-e250e6297901"
      },
      "execution_count": 76,
      "outputs": [
        {
          "output_type": "stream",
          "name": "stderr",
          "text": [
            "<ipython-input-76-0fdf7f96294e>:2: FutureWarning: Argument `closed` is deprecated in favor of `inclusive`.\n",
            "  pred_df['Date'] = pd.date_range(start = df.Date.iloc[-1] , periods = forecast_range+1 , closed = 'right')\n"
          ]
        }
      ]
    },
    {
      "cell_type": "code",
      "source": [
        "pred_df"
      ],
      "metadata": {
        "colab": {
          "base_uri": "https://localhost:8080/",
          "height": 80
        },
        "outputId": "e5d6f274-8c83-41f7-88d0-04b934feeb52",
        "id": "umzocLLCvsn1"
      },
      "execution_count": 77,
      "outputs": [
        {
          "output_type": "execute_result",
          "data": {
            "text/plain": [
              "                 Date\n",
              "2023-03-19 2023-03-19"
            ],
            "text/html": [
              "\n",
              "  <div id=\"df-66aedc67-d97c-440f-9c4c-7013ec45b496\">\n",
              "    <div class=\"colab-df-container\">\n",
              "      <div>\n",
              "<style scoped>\n",
              "    .dataframe tbody tr th:only-of-type {\n",
              "        vertical-align: middle;\n",
              "    }\n",
              "\n",
              "    .dataframe tbody tr th {\n",
              "        vertical-align: top;\n",
              "    }\n",
              "\n",
              "    .dataframe thead th {\n",
              "        text-align: right;\n",
              "    }\n",
              "</style>\n",
              "<table border=\"1\" class=\"dataframe\">\n",
              "  <thead>\n",
              "    <tr style=\"text-align: right;\">\n",
              "      <th></th>\n",
              "      <th>Date</th>\n",
              "    </tr>\n",
              "  </thead>\n",
              "  <tbody>\n",
              "    <tr>\n",
              "      <th>2023-03-19</th>\n",
              "      <td>2023-03-19</td>\n",
              "    </tr>\n",
              "  </tbody>\n",
              "</table>\n",
              "</div>\n",
              "      <button class=\"colab-df-convert\" onclick=\"convertToInteractive('df-66aedc67-d97c-440f-9c4c-7013ec45b496')\"\n",
              "              title=\"Convert this dataframe to an interactive table.\"\n",
              "              style=\"display:none;\">\n",
              "        \n",
              "  <svg xmlns=\"http://www.w3.org/2000/svg\" height=\"24px\"viewBox=\"0 0 24 24\"\n",
              "       width=\"24px\">\n",
              "    <path d=\"M0 0h24v24H0V0z\" fill=\"none\"/>\n",
              "    <path d=\"M18.56 5.44l.94 2.06.94-2.06 2.06-.94-2.06-.94-.94-2.06-.94 2.06-2.06.94zm-11 1L8.5 8.5l.94-2.06 2.06-.94-2.06-.94L8.5 2.5l-.94 2.06-2.06.94zm10 10l.94 2.06.94-2.06 2.06-.94-2.06-.94-.94-2.06-.94 2.06-2.06.94z\"/><path d=\"M17.41 7.96l-1.37-1.37c-.4-.4-.92-.59-1.43-.59-.52 0-1.04.2-1.43.59L10.3 9.45l-7.72 7.72c-.78.78-.78 2.05 0 2.83L4 21.41c.39.39.9.59 1.41.59.51 0 1.02-.2 1.41-.59l7.78-7.78 2.81-2.81c.8-.78.8-2.07 0-2.86zM5.41 20L4 18.59l7.72-7.72 1.47 1.35L5.41 20z\"/>\n",
              "  </svg>\n",
              "      </button>\n",
              "      \n",
              "  <style>\n",
              "    .colab-df-container {\n",
              "      display:flex;\n",
              "      flex-wrap:wrap;\n",
              "      gap: 12px;\n",
              "    }\n",
              "\n",
              "    .colab-df-convert {\n",
              "      background-color: #E8F0FE;\n",
              "      border: none;\n",
              "      border-radius: 50%;\n",
              "      cursor: pointer;\n",
              "      display: none;\n",
              "      fill: #1967D2;\n",
              "      height: 32px;\n",
              "      padding: 0 0 0 0;\n",
              "      width: 32px;\n",
              "    }\n",
              "\n",
              "    .colab-df-convert:hover {\n",
              "      background-color: #E2EBFA;\n",
              "      box-shadow: 0px 1px 2px rgba(60, 64, 67, 0.3), 0px 1px 3px 1px rgba(60, 64, 67, 0.15);\n",
              "      fill: #174EA6;\n",
              "    }\n",
              "\n",
              "    [theme=dark] .colab-df-convert {\n",
              "      background-color: #3B4455;\n",
              "      fill: #D2E3FC;\n",
              "    }\n",
              "\n",
              "    [theme=dark] .colab-df-convert:hover {\n",
              "      background-color: #434B5C;\n",
              "      box-shadow: 0px 1px 3px 1px rgba(0, 0, 0, 0.15);\n",
              "      filter: drop-shadow(0px 1px 2px rgba(0, 0, 0, 0.3));\n",
              "      fill: #FFFFFF;\n",
              "    }\n",
              "  </style>\n",
              "\n",
              "      <script>\n",
              "        const buttonEl =\n",
              "          document.querySelector('#df-66aedc67-d97c-440f-9c4c-7013ec45b496 button.colab-df-convert');\n",
              "        buttonEl.style.display =\n",
              "          google.colab.kernel.accessAllowed ? 'block' : 'none';\n",
              "\n",
              "        async function convertToInteractive(key) {\n",
              "          const element = document.querySelector('#df-66aedc67-d97c-440f-9c4c-7013ec45b496');\n",
              "          const dataTable =\n",
              "            await google.colab.kernel.invokeFunction('convertToInteractive',\n",
              "                                                     [key], {});\n",
              "          if (!dataTable) return;\n",
              "\n",
              "          const docLinkHtml = 'Like what you see? Visit the ' +\n",
              "            '<a target=\"_blank\" href=https://colab.research.google.com/notebooks/data_table.ipynb>data table notebook</a>'\n",
              "            + ' to learn more about interactive tables.';\n",
              "          element.innerHTML = '';\n",
              "          dataTable['output_type'] = 'display_data';\n",
              "          await google.colab.output.renderOutput(dataTable, element);\n",
              "          const docLink = document.createElement('div');\n",
              "          docLink.innerHTML = docLinkHtml;\n",
              "          element.appendChild(docLink);\n",
              "        }\n",
              "      </script>\n",
              "    </div>\n",
              "  </div>\n",
              "  "
            ]
          },
          "metadata": {},
          "execution_count": 77
        }
      ]
    },
    {
      "cell_type": "code",
      "source": [
        "predictiondata = []"
      ],
      "metadata": {
        "id": "pkS0pfHkvsn1"
      },
      "execution_count": 80,
      "outputs": []
    },
    {
      "cell_type": "code",
      "source": [
        "for i in range(0, forecast_range):\n",
        "    last_values = new_df[-n:].values\n",
        "    last_values_scaled = scaler.transform(last_values)\n",
        "    X_input = []\n",
        "    X_input.append(last_values_scaled)\n",
        "    X_input = np.array(X_input)\n",
        "    X_test = np.reshape(X_input, (X_input.shape[0], X_input.shape[1], 1))\n",
        "    pred_value = model.predict(X_input)\n",
        "    pred_value_unscaled = scaler.inverse_transform(pred_value)\n",
        "    dfindex = pred_df.iloc[[i]].index \n",
        "    new_df = new_df.append(pd.DataFrame({\"Close\": pred_value_unscaled[0,0]}, index=dfindex))\n",
        "    predictiondata.append(pred_value_unscaled[0,0])"
      ],
      "metadata": {
        "colab": {
          "base_uri": "https://localhost:8080/"
        },
        "id": "TleRGjR5vsn1",
        "outputId": "7aff6f19-81fd-4c6b-e2bc-1cc7ef6143d8"
      },
      "execution_count": 81,
      "outputs": [
        {
          "output_type": "stream",
          "name": "stdout",
          "text": [
            "1/1 [==============================] - 0s 25ms/step\n"
          ]
        },
        {
          "output_type": "stream",
          "name": "stderr",
          "text": [
            "<ipython-input-81-a435facee083>:11: FutureWarning: The frame.append method is deprecated and will be removed from pandas in a future version. Use pandas.concat instead.\n",
            "  new_df = new_df.append(pd.DataFrame({\"Close\": pred_value_unscaled[0,0]}, index=dfindex))\n"
          ]
        }
      ]
    },
    {
      "cell_type": "code",
      "source": [
        "new_df.tail(1)"
      ],
      "metadata": {
        "colab": {
          "base_uri": "https://localhost:8080/",
          "height": 80
        },
        "outputId": "8bec6797-2449-42ed-e715-54c8be728a51",
        "id": "FycYhjYNvsn1"
      },
      "execution_count": 82,
      "outputs": [
        {
          "output_type": "execute_result",
          "data": {
            "text/plain": [
              "                 Close\n",
              "2023-03-19  23227226.0"
            ],
            "text/html": [
              "\n",
              "  <div id=\"df-083f232e-b775-4023-a9b8-f9968372cd4c\">\n",
              "    <div class=\"colab-df-container\">\n",
              "      <div>\n",
              "<style scoped>\n",
              "    .dataframe tbody tr th:only-of-type {\n",
              "        vertical-align: middle;\n",
              "    }\n",
              "\n",
              "    .dataframe tbody tr th {\n",
              "        vertical-align: top;\n",
              "    }\n",
              "\n",
              "    .dataframe thead th {\n",
              "        text-align: right;\n",
              "    }\n",
              "</style>\n",
              "<table border=\"1\" class=\"dataframe\">\n",
              "  <thead>\n",
              "    <tr style=\"text-align: right;\">\n",
              "      <th></th>\n",
              "      <th>Close</th>\n",
              "    </tr>\n",
              "  </thead>\n",
              "  <tbody>\n",
              "    <tr>\n",
              "      <th>2023-03-19</th>\n",
              "      <td>23227226.0</td>\n",
              "    </tr>\n",
              "  </tbody>\n",
              "</table>\n",
              "</div>\n",
              "      <button class=\"colab-df-convert\" onclick=\"convertToInteractive('df-083f232e-b775-4023-a9b8-f9968372cd4c')\"\n",
              "              title=\"Convert this dataframe to an interactive table.\"\n",
              "              style=\"display:none;\">\n",
              "        \n",
              "  <svg xmlns=\"http://www.w3.org/2000/svg\" height=\"24px\"viewBox=\"0 0 24 24\"\n",
              "       width=\"24px\">\n",
              "    <path d=\"M0 0h24v24H0V0z\" fill=\"none\"/>\n",
              "    <path d=\"M18.56 5.44l.94 2.06.94-2.06 2.06-.94-2.06-.94-.94-2.06-.94 2.06-2.06.94zm-11 1L8.5 8.5l.94-2.06 2.06-.94-2.06-.94L8.5 2.5l-.94 2.06-2.06.94zm10 10l.94 2.06.94-2.06 2.06-.94-2.06-.94-.94-2.06-.94 2.06-2.06.94z\"/><path d=\"M17.41 7.96l-1.37-1.37c-.4-.4-.92-.59-1.43-.59-.52 0-1.04.2-1.43.59L10.3 9.45l-7.72 7.72c-.78.78-.78 2.05 0 2.83L4 21.41c.39.39.9.59 1.41.59.51 0 1.02-.2 1.41-.59l7.78-7.78 2.81-2.81c.8-.78.8-2.07 0-2.86zM5.41 20L4 18.59l7.72-7.72 1.47 1.35L5.41 20z\"/>\n",
              "  </svg>\n",
              "      </button>\n",
              "      \n",
              "  <style>\n",
              "    .colab-df-container {\n",
              "      display:flex;\n",
              "      flex-wrap:wrap;\n",
              "      gap: 12px;\n",
              "    }\n",
              "\n",
              "    .colab-df-convert {\n",
              "      background-color: #E8F0FE;\n",
              "      border: none;\n",
              "      border-radius: 50%;\n",
              "      cursor: pointer;\n",
              "      display: none;\n",
              "      fill: #1967D2;\n",
              "      height: 32px;\n",
              "      padding: 0 0 0 0;\n",
              "      width: 32px;\n",
              "    }\n",
              "\n",
              "    .colab-df-convert:hover {\n",
              "      background-color: #E2EBFA;\n",
              "      box-shadow: 0px 1px 2px rgba(60, 64, 67, 0.3), 0px 1px 3px 1px rgba(60, 64, 67, 0.15);\n",
              "      fill: #174EA6;\n",
              "    }\n",
              "\n",
              "    [theme=dark] .colab-df-convert {\n",
              "      background-color: #3B4455;\n",
              "      fill: #D2E3FC;\n",
              "    }\n",
              "\n",
              "    [theme=dark] .colab-df-convert:hover {\n",
              "      background-color: #434B5C;\n",
              "      box-shadow: 0px 1px 3px 1px rgba(0, 0, 0, 0.15);\n",
              "      filter: drop-shadow(0px 1px 2px rgba(0, 0, 0, 0.3));\n",
              "      fill: #FFFFFF;\n",
              "    }\n",
              "  </style>\n",
              "\n",
              "      <script>\n",
              "        const buttonEl =\n",
              "          document.querySelector('#df-083f232e-b775-4023-a9b8-f9968372cd4c button.colab-df-convert');\n",
              "        buttonEl.style.display =\n",
              "          google.colab.kernel.accessAllowed ? 'block' : 'none';\n",
              "\n",
              "        async function convertToInteractive(key) {\n",
              "          const element = document.querySelector('#df-083f232e-b775-4023-a9b8-f9968372cd4c');\n",
              "          const dataTable =\n",
              "            await google.colab.kernel.invokeFunction('convertToInteractive',\n",
              "                                                     [key], {});\n",
              "          if (!dataTable) return;\n",
              "\n",
              "          const docLinkHtml = 'Like what you see? Visit the ' +\n",
              "            '<a target=\"_blank\" href=https://colab.research.google.com/notebooks/data_table.ipynb>data table notebook</a>'\n",
              "            + ' to learn more about interactive tables.';\n",
              "          element.innerHTML = '';\n",
              "          dataTable['output_type'] = 'display_data';\n",
              "          await google.colab.output.renderOutput(dataTable, element);\n",
              "          const docLink = document.createElement('div');\n",
              "          docLink.innerHTML = docLinkHtml;\n",
              "          element.appendChild(docLink);\n",
              "        }\n",
              "      </script>\n",
              "    </div>\n",
              "  </div>\n",
              "  "
            ]
          },
          "metadata": {},
          "execution_count": 82
        }
      ]
    },
    {
      "cell_type": "markdown",
      "source": [
        "**Geram18Ayar price prediction by ARIMA**"
      ],
      "metadata": {
        "id": "fwev4x2Xw1BE"
      }
    },
    {
      "cell_type": "code",
      "source": [
        "data = list(df[\"Close\"])"
      ],
      "metadata": {
        "id": "XkTP-Fw0oyW9"
      },
      "execution_count": 493,
      "outputs": []
    },
    {
      "cell_type": "code",
      "source": [
        "result = adfuller(data)\n",
        "print(\"1. ADF : \",result[0])\n",
        "print(\"2. P-Value : \", result[1])\n",
        "print(\"3. Num Of Lags : \", result[2])\n",
        "print(\"4. Num Of Observations Used For ADF Regression:\", result[3])\n",
        "print(\"5. Critical Values :\")\n",
        "for key, val in result[4].items():\n",
        "  print(\"\\t\",key, \": \", val)"
      ],
      "metadata": {
        "colab": {
          "base_uri": "https://localhost:8080/"
        },
        "id": "AJ490swBo4ED",
        "outputId": "07ba5cb2-86e2-4a93-8c4c-3c3adcd418fd"
      },
      "execution_count": 494,
      "outputs": [
        {
          "output_type": "stream",
          "name": "stdout",
          "text": [
            "1. ADF :  2.5359433021461695\n",
            "2. P-Value :  0.9990605318248951\n",
            "3. Num Of Lags :  25\n",
            "4. Num Of Observations Used For ADF Regression: 2361\n",
            "5. Critical Values :\n",
            "\t 1% :  -3.4331227335658987\n",
            "\t 5% :  -2.862764947264235\n",
            "\t 10% :  -2.5674220922279143\n"
          ]
        }
      ]
    },
    {
      "cell_type": "code",
      "source": [
        "d_value = ndiffs(data,test = \"adf\")\n",
        "print(\"d value:\", d_value)"
      ],
      "metadata": {
        "colab": {
          "base_uri": "https://localhost:8080/"
        },
        "id": "gWQBJYZmo9Gs",
        "outputId": "f800dc18-f17e-4d51-9567-231c27687e47"
      },
      "execution_count": 495,
      "outputs": [
        {
          "output_type": "stream",
          "name": "stdout",
          "text": [
            "d value: 1\n"
          ]
        }
      ]
    },
    {
      "cell_type": "code",
      "source": [
        "len_test= math.ceil(len(data)*0.2)  \n",
        "x_train= data[:-len_test]\n",
        "x_test = data[-len_test:]\n",
        "print(len(x_train),len(x_test))"
      ],
      "metadata": {
        "colab": {
          "base_uri": "https://localhost:8080/"
        },
        "id": "B2h56UHypEW7",
        "outputId": "7ae45b92-7e75-49be-f7af-f781fd825915"
      },
      "execution_count": 496,
      "outputs": [
        {
          "output_type": "stream",
          "name": "stdout",
          "text": [
            "1909 478\n"
          ]
        }
      ]
    },
    {
      "cell_type": "code",
      "source": [
        "stepwise_fit = auto_arima(data,trace=True,suppress_warnings=True)\n",
        "print(stepwise_fit.summary())"
      ],
      "metadata": {
        "colab": {
          "base_uri": "https://localhost:8080/"
        },
        "id": "nohVNQe5pFwr",
        "outputId": "0ceb5dbb-9813-45c2-e639-a087041d4476"
      },
      "execution_count": 497,
      "outputs": [
        {
          "output_type": "stream",
          "name": "stdout",
          "text": [
            "Performing stepwise search to minimize aic\n",
            " ARIMA(2,2,2)(0,0,0)[0]             : AIC=inf, Time=1.85 sec\n",
            " ARIMA(0,2,0)(0,0,0)[0]             : AIC=66040.550, Time=0.06 sec\n",
            " ARIMA(1,2,0)(0,0,0)[0]             : AIC=65612.016, Time=0.11 sec\n",
            " ARIMA(0,2,1)(0,0,0)[0]             : AIC=inf, Time=0.39 sec\n",
            " ARIMA(2,2,0)(0,0,0)[0]             : AIC=65188.399, Time=0.25 sec\n",
            " ARIMA(3,2,0)(0,0,0)[0]             : AIC=65062.375, Time=0.36 sec\n",
            " ARIMA(4,2,0)(0,0,0)[0]             : AIC=65019.160, Time=0.54 sec\n",
            " ARIMA(5,2,0)(0,0,0)[0]             : AIC=64906.201, Time=0.68 sec\n",
            " ARIMA(5,2,1)(0,0,0)[0]             : AIC=inf, Time=4.55 sec\n",
            " ARIMA(4,2,1)(0,0,0)[0]             : AIC=inf, Time=2.17 sec\n",
            " ARIMA(5,2,0)(0,0,0)[0] intercept   : AIC=64908.191, Time=0.74 sec\n",
            "\n",
            "Best model:  ARIMA(5,2,0)(0,0,0)[0]          \n",
            "Total fit time: 11.716 seconds\n",
            "                               SARIMAX Results                                \n",
            "==============================================================================\n",
            "Dep. Variable:                      y   No. Observations:                 2387\n",
            "Model:               SARIMAX(5, 2, 0)   Log Likelihood              -32447.100\n",
            "Date:                Sun, 19 Mar 2023   AIC                          64906.201\n",
            "Time:                        20:17:26   BIC                          64940.863\n",
            "Sample:                             0   HQIC                         64918.815\n",
            "                               - 2387                                         \n",
            "Covariance Type:                  opg                                         \n",
            "==============================================================================\n",
            "                 coef    std err          z      P>|z|      [0.025      0.975]\n",
            "------------------------------------------------------------------------------\n",
            "ar.L1         -0.7300      0.005   -146.289      0.000      -0.740      -0.720\n",
            "ar.L2         -0.6849      0.006   -111.927      0.000      -0.697      -0.673\n",
            "ar.L3         -0.4626      0.009    -54.145      0.000      -0.479      -0.446\n",
            "ar.L4         -0.3132      0.007    -45.090      0.000      -0.327      -0.300\n",
            "ar.L5         -0.2321      0.008    -30.562      0.000      -0.247      -0.217\n",
            "sigma2      3.836e+10   1.22e-13   3.15e+23      0.000    3.84e+10    3.84e+10\n",
            "===================================================================================\n",
            "Ljung-Box (L1) (Q):                   0.60   Jarque-Bera (JB):            254617.53\n",
            "Prob(Q):                              0.44   Prob(JB):                         0.00\n",
            "Heteroskedasticity (H):             199.86   Skew:                            -0.71\n",
            "Prob(H) (two-sided):                  0.00   Kurtosis:                        53.60\n",
            "===================================================================================\n",
            "\n",
            "Warnings:\n",
            "[1] Covariance matrix calculated using the outer product of gradients (complex-step).\n",
            "[2] Covariance matrix is singular or near-singular, with condition number 8.76e+37. Standard errors may be unstable.\n"
          ]
        }
      ]
    },
    {
      "cell_type": "code",
      "source": [
        "model = sm.tsa.arima.ARIMA(data, order=(5,2,1))\n",
        "     "
      ],
      "metadata": {
        "id": "TOznVV6tpK_0"
      },
      "execution_count": 527,
      "outputs": []
    },
    {
      "cell_type": "code",
      "source": [
        "model = model.fit()\n",
        "model.summary()"
      ],
      "metadata": {
        "colab": {
          "base_uri": "https://localhost:8080/",
          "height": 521
        },
        "id": "6sNhZ6xypNZ0",
        "outputId": "9470b47f-f505-45de-8858-bda1e644a827"
      },
      "execution_count": 528,
      "outputs": [
        {
          "output_type": "execute_result",
          "data": {
            "text/plain": [
              "<class 'statsmodels.iolib.summary.Summary'>\n",
              "\"\"\"\n",
              "                               SARIMAX Results                                \n",
              "==============================================================================\n",
              "Dep. Variable:                      y   No. Observations:                 2387\n",
              "Model:                 ARIMA(5, 2, 1)   Log Likelihood              -32296.501\n",
              "Date:                Sun, 19 Mar 2023   AIC                          64607.003\n",
              "Time:                        20:23:08   BIC                          64647.442\n",
              "Sample:                             0   HQIC                         64621.719\n",
              "                               - 2387                                         \n",
              "Covariance Type:                  opg                                         \n",
              "==============================================================================\n",
              "                 coef    std err          z      P>|z|      [0.025      0.975]\n",
              "------------------------------------------------------------------------------\n",
              "ar.L1          0.1040      0.008     12.746      0.000       0.088       0.120\n",
              "ar.L2         -0.0981      0.006    -15.640      0.000      -0.110      -0.086\n",
              "ar.L3          0.0645      0.006      9.965      0.000       0.052       0.077\n",
              "ar.L4         -0.0198      0.011     -1.746      0.081      -0.042       0.002\n",
              "ar.L5         -0.0747      0.005    -14.082      0.000      -0.085      -0.064\n",
              "ma.L1         -0.9954      0.001   -967.963      0.000      -0.997      -0.993\n",
              "sigma2      3.837e+10   7.31e-14   5.25e+23      0.000    3.84e+10    3.84e+10\n",
              "===================================================================================\n",
              "Ljung-Box (L1) (Q):                   0.00   Jarque-Bera (JB):            532971.05\n",
              "Prob(Q):                              0.95   Prob(JB):                         0.00\n",
              "Heteroskedasticity (H):             148.79   Skew:                            -0.59\n",
              "Prob(H) (two-sided):                  0.00   Kurtosis:                        76.22\n",
              "===================================================================================\n",
              "\n",
              "Warnings:\n",
              "[1] Covariance matrix calculated using the outer product of gradients (complex-step).\n",
              "[2] Covariance matrix is singular or near-singular, with condition number 6.16e+37. Standard errors may be unstable.\n",
              "\"\"\""
            ],
            "text/html": [
              "<table class=\"simpletable\">\n",
              "<caption>SARIMAX Results</caption>\n",
              "<tr>\n",
              "  <th>Dep. Variable:</th>           <td>y</td>        <th>  No. Observations:  </th>    <td>2387</td>   \n",
              "</tr>\n",
              "<tr>\n",
              "  <th>Model:</th>            <td>ARIMA(5, 2, 1)</td>  <th>  Log Likelihood     </th> <td>-32296.501</td>\n",
              "</tr>\n",
              "<tr>\n",
              "  <th>Date:</th>            <td>Sun, 19 Mar 2023</td> <th>  AIC                </th>  <td>64607.003</td>\n",
              "</tr>\n",
              "<tr>\n",
              "  <th>Time:</th>                <td>20:23:08</td>     <th>  BIC                </th>  <td>64647.442</td>\n",
              "</tr>\n",
              "<tr>\n",
              "  <th>Sample:</th>                  <td>0</td>        <th>  HQIC               </th>  <td>64621.719</td>\n",
              "</tr>\n",
              "<tr>\n",
              "  <th></th>                      <td> - 2387</td>     <th>                     </th>      <td> </td>    \n",
              "</tr>\n",
              "<tr>\n",
              "  <th>Covariance Type:</th>        <td>opg</td>       <th>                     </th>      <td> </td>    \n",
              "</tr>\n",
              "</table>\n",
              "<table class=\"simpletable\">\n",
              "<tr>\n",
              "     <td></td>       <th>coef</th>     <th>std err</th>      <th>z</th>      <th>P>|z|</th>  <th>[0.025</th>    <th>0.975]</th>  \n",
              "</tr>\n",
              "<tr>\n",
              "  <th>ar.L1</th>  <td>    0.1040</td> <td>    0.008</td> <td>   12.746</td> <td> 0.000</td> <td>    0.088</td> <td>    0.120</td>\n",
              "</tr>\n",
              "<tr>\n",
              "  <th>ar.L2</th>  <td>   -0.0981</td> <td>    0.006</td> <td>  -15.640</td> <td> 0.000</td> <td>   -0.110</td> <td>   -0.086</td>\n",
              "</tr>\n",
              "<tr>\n",
              "  <th>ar.L3</th>  <td>    0.0645</td> <td>    0.006</td> <td>    9.965</td> <td> 0.000</td> <td>    0.052</td> <td>    0.077</td>\n",
              "</tr>\n",
              "<tr>\n",
              "  <th>ar.L4</th>  <td>   -0.0198</td> <td>    0.011</td> <td>   -1.746</td> <td> 0.081</td> <td>   -0.042</td> <td>    0.002</td>\n",
              "</tr>\n",
              "<tr>\n",
              "  <th>ar.L5</th>  <td>   -0.0747</td> <td>    0.005</td> <td>  -14.082</td> <td> 0.000</td> <td>   -0.085</td> <td>   -0.064</td>\n",
              "</tr>\n",
              "<tr>\n",
              "  <th>ma.L1</th>  <td>   -0.9954</td> <td>    0.001</td> <td> -967.963</td> <td> 0.000</td> <td>   -0.997</td> <td>   -0.993</td>\n",
              "</tr>\n",
              "<tr>\n",
              "  <th>sigma2</th> <td> 3.837e+10</td> <td> 7.31e-14</td> <td> 5.25e+23</td> <td> 0.000</td> <td> 3.84e+10</td> <td> 3.84e+10</td>\n",
              "</tr>\n",
              "</table>\n",
              "<table class=\"simpletable\">\n",
              "<tr>\n",
              "  <th>Ljung-Box (L1) (Q):</th>      <td>0.00</td>  <th>  Jarque-Bera (JB):  </th> <td>532971.05</td>\n",
              "</tr>\n",
              "<tr>\n",
              "  <th>Prob(Q):</th>                 <td>0.95</td>  <th>  Prob(JB):          </th>   <td>0.00</td>   \n",
              "</tr>\n",
              "<tr>\n",
              "  <th>Heteroskedasticity (H):</th> <td>148.79</td> <th>  Skew:              </th>   <td>-0.59</td>  \n",
              "</tr>\n",
              "<tr>\n",
              "  <th>Prob(H) (two-sided):</th>     <td>0.00</td>  <th>  Kurtosis:          </th>   <td>76.22</td>  \n",
              "</tr>\n",
              "</table><br/><br/>Warnings:<br/>[1] Covariance matrix calculated using the outer product of gradients (complex-step).<br/>[2] Covariance matrix is singular or near-singular, with condition number 6.16e+37. Standard errors may be unstable."
            ]
          },
          "metadata": {},
          "execution_count": 528
        }
      ]
    },
    {
      "cell_type": "code",
      "source": [
        "start=len(x_train)\n",
        "end=len(x_train)+len(x_test)-1\n",
        "pred = model.predict(start=start,end=end)\n",
        "pred"
      ],
      "metadata": {
        "colab": {
          "base_uri": "https://localhost:8080/"
        },
        "id": "Kg5WdRh0pQ69",
        "outputId": "f6c9f335-4293-4816-e795-89b961661476"
      },
      "execution_count": 529,
      "outputs": [
        {
          "output_type": "execute_result",
          "data": {
            "text/plain": [
              "array([10438745.36352703, 10533276.27210989, 10671051.78920331,\n",
              "       10763124.03601628, 10851662.9371747 , 10972762.84708847,\n",
              "       10857009.168299  , 10861137.27050496, 10505584.83780871,\n",
              "       10636426.77257188, 10581950.91151415, 10736100.36595653,\n",
              "       10593710.40555936, 10356171.64711086, 10348176.69021896,\n",
              "       10388670.62785753, 10446352.19262856, 10396342.78552911,\n",
              "       10400003.41530666, 10396792.72069673, 10173808.19629967,\n",
              "       10486693.46122893, 10164322.59062121, 10065872.36061798,\n",
              "       10080621.12266934,  9902994.1860713 , 10027217.13063627,\n",
              "        9969127.84733863,  9710386.49036653,  9399687.74122248,\n",
              "        9410762.59715908,  8925823.07752437,  9408127.50577616,\n",
              "        9365003.74437682,  9742698.08677555,  9876571.44828933,\n",
              "        9935179.49477512, 10320400.94926582, 10121177.60318626,\n",
              "       10163618.80285425, 10296122.95049299, 10108555.39311949,\n",
              "       10251199.52553781, 10294627.84195544, 10370372.49231393,\n",
              "       10339721.01317572, 10465189.61680389, 10815524.7538893 ,\n",
              "       11003741.38300402, 10990446.84596214, 10973239.86196602,\n",
              "       10897531.9741719 , 10843406.72786993, 10751515.24738473,\n",
              "       10858617.36725049, 10619290.65756802, 10811078.04461225,\n",
              "       10669843.20513606, 10766843.05023704, 10827586.92164324,\n",
              "       10073859.43050083, 10378064.83464609, 10304865.23659484,\n",
              "       10466821.66608822, 10425927.14850506, 10516468.04115479,\n",
              "       10580223.32005604, 10666181.2071189 , 10648236.54437072,\n",
              "       10737077.46097759, 10651044.40547501, 10603801.93785179,\n",
              "       10584270.15371121, 10683914.47883372, 10599570.5123322 ,\n",
              "       10663782.57329669, 10649712.94651535, 10611868.12306705,\n",
              "       10547703.33571257, 10495730.06423033, 10533270.85534519,\n",
              "       10510425.04296278, 10491084.46149094, 10790410.4755786 ,\n",
              "       10755216.00604643, 11001819.91621687, 11107342.75191741,\n",
              "       10947444.00358439, 10959346.31434686, 10990094.89894549,\n",
              "       10980961.99757724, 10834303.52584159, 10894334.89019436,\n",
              "       10836345.52506116, 10943946.82907346, 11133487.83686209,\n",
              "       11152180.38021953, 11417408.63662022, 11549254.12987115,\n",
              "       11747271.26134977, 11755048.03332581, 11716554.56141579,\n",
              "       12044330.05295839, 11770134.35332815, 11557047.82638408,\n",
              "       11687945.96094313, 11495011.43590039, 11679409.46996195,\n",
              "       11713920.54922034, 11661211.69802893, 11709546.7963619 ,\n",
              "       11819456.57274733, 11725908.01610226, 11583294.42803587,\n",
              "       11575800.09148971, 11673288.71241593, 11540605.57983277,\n",
              "       11318663.28706375, 11363763.39529738, 11404957.61807556,\n",
              "       11445846.0839925 , 11564267.20157461, 11405093.7045283 ,\n",
              "       11484495.39821178, 11514682.76487178, 11581621.5290248 ,\n",
              "       11695113.63175896, 11601935.66619776, 11717360.36450827,\n",
              "       11575355.63147064, 11413372.40716123, 11453155.18260253,\n",
              "       11299099.75099053, 11287003.24011088, 11450646.60387983,\n",
              "       11448700.2067411 , 11431940.66139534, 11382094.49539359,\n",
              "       11481028.45055165, 11415230.80558294, 11674891.95529904,\n",
              "       11685570.9479196 , 11636905.92397469, 11741521.38692469,\n",
              "       11672504.00764748, 11696680.7759383 , 11731496.54421215,\n",
              "       11681007.85433226, 11736127.15962432, 12007705.06328436,\n",
              "       12003929.00151687, 12065148.94997117, 12161569.04593194,\n",
              "       12542672.64266548, 12778242.15021396, 12704274.74900844,\n",
              "       12619020.25604757, 12528889.3132728 , 12483312.98208028,\n",
              "       12368284.26008242, 12428604.95482051, 12539409.28151242,\n",
              "       12349963.2753343 , 12587324.56942017, 12515908.21372336,\n",
              "       12593508.30211023, 12726659.80527427, 12482165.56527371,\n",
              "       12663159.49262797, 13032665.63540008, 13025598.65281546,\n",
              "       13257948.46976965, 13153650.17903098, 13084173.8052002 ,\n",
              "       12978666.6545794 , 12938470.5022202 , 12874918.0322654 ,\n",
              "       12957302.10303692, 12935104.18588487, 12866761.38364959,\n",
              "       12834568.07596382, 12874966.82033857, 12991787.66513653,\n",
              "       13020361.89844007, 12865829.79294519, 13015147.48663847,\n",
              "       12914009.40466153, 12891741.58419704, 12903039.79214404,\n",
              "       12933852.6402895 , 12952008.75434646, 12813642.83236214,\n",
              "       12677192.21067356, 12665565.27498155, 12065554.58826909,\n",
              "       11769148.4853941 , 12031808.32914049, 12254524.92119206,\n",
              "       12139909.0027712 , 12042221.0674061 , 11961936.7312202 ,\n",
              "       11826247.83406976, 11955569.90175382, 12122724.88167358,\n",
              "       12141191.53899677, 12396276.28632194, 12406300.18518887,\n",
              "       12397172.6759446 , 12388003.3838498 , 12228625.07091089,\n",
              "       12296129.92567731, 12154754.38295273, 12194137.51107455,\n",
              "       12074157.12177871, 11694817.63118882, 11906018.81372849,\n",
              "       11740749.92182959, 11567467.58616211, 11713771.88430703,\n",
              "       12051581.99727027, 12177488.70350724, 12147514.13118618,\n",
              "       12032903.2280018 , 11829644.03569896, 11723621.73184433,\n",
              "       11765708.91324982, 11904925.34149686, 11920368.51182041,\n",
              "       12097426.45229073, 12006923.35698483, 12040830.1472244 ,\n",
              "       11985975.66878369, 12001909.23506359, 11968537.83188461,\n",
              "       12109907.59080248, 12519952.52498847, 12189564.08401178,\n",
              "       12303279.87246958, 12373762.85455716, 12262589.45355028,\n",
              "       12277903.84000126, 12152991.96687534, 12308645.97894209,\n",
              "       12362114.87835293, 12477608.84396511, 12455106.82866276,\n",
              "       12502502.40197013, 12576534.09029762, 12498741.30309114,\n",
              "       12804398.65405472, 12935948.56552933, 12791374.95954888,\n",
              "       13103087.61005892, 13184335.23366658, 13178794.22394946,\n",
              "       13279251.38636903, 13120546.1683892 , 13172670.61689707,\n",
              "       13182988.61408618, 13137282.42642006, 13000938.30224632,\n",
              "       13105506.5637575 , 12885094.00120039, 12812457.14677325,\n",
              "       12896308.04794756, 12925583.29351086, 12893332.35187277,\n",
              "       13001036.55494829, 12907836.94267582, 13160070.56409211,\n",
              "       13100120.4933361 , 13121860.39488029, 13215626.55355322,\n",
              "       13454120.84219612, 13640736.7289105 , 13846659.84807853,\n",
              "       13740841.04550466, 13585332.4684668 , 13487374.81227172,\n",
              "       13881820.05254295, 13771980.66044102, 13825093.47921697,\n",
              "       13809031.16653581, 13785671.89674698, 13924092.27547238,\n",
              "       14091429.22057012, 14135187.4585134 , 14302524.89074316,\n",
              "       14489162.92765146, 14264433.61504497, 14272609.68431054,\n",
              "       14442937.76659643, 14833117.74991616, 15117811.05790561,\n",
              "       14691338.69001631, 14467380.27058466, 14238955.20274732,\n",
              "       14521403.12998932, 14260621.49032799, 14428569.87863337,\n",
              "       14415733.34579376, 14438185.42899629, 14137478.2751275 ,\n",
              "       13950187.15359529, 13503009.45954875, 13621753.51875103,\n",
              "       13879318.65288278, 14662354.90145106, 14187695.00933485,\n",
              "       14333578.56523167, 13536621.61972822, 13750727.57104068,\n",
              "       13848495.9022366 , 13942082.33877044, 13857539.06853984,\n",
              "       14035234.92983556, 13673778.21609477, 13711717.47167106,\n",
              "       13477292.12794843, 13522406.38947918, 13577406.32692784,\n",
              "       13490908.34937026, 13486248.25959007, 13552339.04113339,\n",
              "       13527670.16568076, 13823594.36991308, 13625950.69075696,\n",
              "       13621610.51487583, 13675297.0031709 , 13520938.06647496,\n",
              "       13725067.94125368, 13723138.39007406, 13551352.61440771,\n",
              "       13275604.62005892, 13298022.74145112, 12962923.60822506,\n",
              "       13083168.73263311, 12832908.18547822, 11902840.88858213,\n",
              "       12500255.59384857, 12244506.54845462, 12592220.42560397,\n",
              "       12525387.81938994, 12745210.75409628, 12520104.33980244,\n",
              "       12680427.73607214, 12636976.28599745, 12689465.71800974,\n",
              "       12707921.80234158, 12849207.65409173, 12709344.31424311,\n",
              "       12786670.82601033, 12749585.96926456, 12859040.40605506,\n",
              "       13007254.74263348, 13284152.08897788, 13379967.02975026,\n",
              "       13241759.75241593, 13086092.80305048, 13057739.43147937,\n",
              "       13056276.70967847, 13245768.89065317, 13102329.52642551,\n",
              "       13141143.73427669, 13176089.69221139, 13796762.47335667,\n",
              "       13734027.68345887, 13987488.22486103, 13971858.30632827,\n",
              "       13701439.64590009, 13503929.06705393, 13546752.61838806,\n",
              "       13592766.66848391, 13642853.41656609, 13468785.1283008 ,\n",
              "       13580072.60225987, 13469449.16664295, 13466663.35159222,\n",
              "       13416641.15836826, 13561176.53279837, 13402862.12682213,\n",
              "       13395701.4005098 , 13499937.44926459, 13615257.83920613,\n",
              "       13469849.9068987 , 13601930.87413177, 13588210.29117658,\n",
              "       13765480.04361197, 13994596.72968327, 14681827.53357165,\n",
              "       14775936.21216644, 14889979.70118828, 14721882.25181279,\n",
              "       14633704.86034504, 14828894.7538261 , 14867147.95727401,\n",
              "       15140307.16433446, 15216505.70548637, 15145725.65139821,\n",
              "       15017348.42422923, 14913069.71600452, 14921856.55851215,\n",
              "       15020093.53964   , 14967529.37302293, 15363645.47360159,\n",
              "       15369067.26746733, 15298687.56706534, 15300666.56624675,\n",
              "       15554707.05310261, 15740729.5145437 , 15993092.44529937,\n",
              "       15795684.76568481, 15760518.16744268, 15760114.01879447,\n",
              "       16309130.9948832 , 16391266.11763071, 16801248.31183117,\n",
              "       16990855.96579523, 16705258.11028012, 17694178.67927412,\n",
              "       17304900.83319981, 17765434.59976217, 17381811.69210071,\n",
              "       17728964.988351  , 18389104.63604987, 18442331.49389478,\n",
              "       18887079.81605745, 20021510.16050465, 17650372.77040951,\n",
              "       18890222.7440739 , 18287952.93867844, 17916362.3996138 ,\n",
              "       18276899.088735  , 19003855.99630342, 18954206.78976846,\n",
              "       18954329.98301153, 18899051.10854185, 18867856.97061609,\n",
              "       19369077.9909126 , 19435523.13524438, 20007810.76365155,\n",
              "       20291185.11412433, 20655978.27129513, 20869228.67373556,\n",
              "       20830028.29655519, 20330214.22448006, 20703992.99464342,\n",
              "       20963758.87802846, 21442028.79701545, 21150777.61950532,\n",
              "       20715853.97380472, 21519522.64306379, 20738585.49909213,\n",
              "       20829295.64061087, 20716026.35707587, 20881028.64210558,\n",
              "       21646462.19955645, 21164775.61070865, 21553560.04626388,\n",
              "       21661263.41111777, 22912402.08143777, 23472894.63450491,\n",
              "       23128091.81398702, 24177319.76898533, 24648976.63642658,\n",
              "       28049571.83096479, 27590217.99024685, 26140992.85462873,\n",
              "       25070873.17495516, 24984332.260169  , 23263691.61489653,\n",
              "       22983445.71149005, 23335174.99034934, 20411208.4884498 ,\n",
              "       20339395.38374282, 21872066.07737738, 22654922.06845611,\n",
              "       23466883.47200303])"
            ]
          },
          "metadata": {},
          "execution_count": 529
        }
      ]
    },
    {
      "cell_type": "code",
      "source": [
        "s = pd.Series(pred, index =df.index[-len(x_test):])   #len(x_test)\n",
        "s"
      ],
      "metadata": {
        "colab": {
          "base_uri": "https://localhost:8080/"
        },
        "id": "K9BXmpYIpTkd",
        "outputId": "6a9e17f5-4339-45ce-9364-8cf915ccc89f"
      },
      "execution_count": 530,
      "outputs": [
        {
          "output_type": "execute_result",
          "data": {
            "text/plain": [
              "2021-03-15    1.043875e+07\n",
              "2021-03-16    1.053328e+07\n",
              "2021-03-17    1.067105e+07\n",
              "2021-03-27    1.076312e+07\n",
              "2021-03-28    1.085166e+07\n",
              "                  ...     \n",
              "2023-03-12    2.041121e+07\n",
              "2023-03-13    2.033940e+07\n",
              "2023-03-14    2.187207e+07\n",
              "2023-03-15    2.265492e+07\n",
              "2023-03-18    2.346688e+07\n",
              "Length: 478, dtype: float64"
            ]
          },
          "metadata": {},
          "execution_count": 530
        }
      ]
    },
    {
      "cell_type": "code",
      "source": [
        "plt.figure(figsize=(10,6), dpi=100)\n",
        "df['Close'][-len(x_test):].plot(label='Actual Stock Price', legend=True)\n",
        "s.plot(label='Predicted Price', legend=True,)"
      ],
      "metadata": {
        "colab": {
          "base_uri": "https://localhost:8080/",
          "height": 543
        },
        "id": "Oo4sr4o9pVkN",
        "outputId": "faf0e819-d55e-4474-b213-3cbfc67d7ccb"
      },
      "execution_count": 531,
      "outputs": [
        {
          "output_type": "execute_result",
          "data": {
            "text/plain": [
              "<Axes: >"
            ]
          },
          "metadata": {},
          "execution_count": 531
        },
        {
          "output_type": "display_data",
          "data": {
            "text/plain": [
              "<Figure size 1000x600 with 1 Axes>"
            ],
            "image/png": "[encoded data removed]"
          },
          "metadata": {}
        }
      ]
    },
    {
      "cell_type": "markdown",
      "source": [
        "predict next day"
      ],
      "metadata": {
        "id": "uvXsFT5qw8SF"
      }
    },
    {
      "cell_type": "code",
      "source": [
        "a = model.forecast(step=1)[0]\n",
        "print(a)"
      ],
      "metadata": {
        "colab": {
          "base_uri": "https://localhost:8080/"
        },
        "id": "NSJXjRVorLaE",
        "outputId": "1ab0b703-b5bc-43ad-fd01-4a4b0da28d7a"
      },
      "execution_count": 532,
      "outputs": [
        {
          "output_type": "stream",
          "name": "stdout",
          "text": [
            "24591480.601948548\n"
          ]
        }
      ]
    },
    {
      "cell_type": "code",
      "source": [
        "rmse =sqrt(mean_squared_error(x_test,pred))\n",
        "print(rmse)"
      ],
      "metadata": {
        "colab": {
          "base_uri": "https://localhost:8080/"
        },
        "id": "rrb_6zPcroDL",
        "outputId": "e298ffba-2e3b-4d85-ffdb-1be26a8f8ce5"
      },
      "execution_count": 533,
      "outputs": [
        {
          "output_type": "stream",
          "name": "stdout",
          "text": [
            "332028.6096367343\n"
          ]
        }
      ]
    },
    {
      "cell_type": "markdown",
      "source": [
        "Predicting Future 10 values"
      ],
      "metadata": {
        "id": "B9CsWQSdxQeD"
      }
    },
    {
      "cell_type": "code",
      "source": [
        "pred_future = model.predict(start=end,end=end+10)\n",
        "pred_future"
      ],
      "metadata": {
        "colab": {
          "base_uri": "https://localhost:8080/"
        },
        "id": "P_xGCWEox9qE",
        "outputId": "1ccc7bc3-47c4-4cd4-ee0e-4e805609b930"
      },
      "execution_count": null,
      "outputs": [
        {
          "output_type": "execute_result",
          "data": {
            "text/plain": [
              "array([307.61342017, 310.26298624, 311.00690363, 308.7458338 ,\n",
              "       309.17247616, 310.4407469 , 310.0384948 , 308.72367332,\n",
              "       310.07226681, 310.06634067, 309.43046985])"
            ]
          },
          "metadata": {},
          "execution_count": 165
        }
      ]
    },
    {
      "cell_type": "code",
      "source": [
        "start_date = datetime.datetime(2023,2,12)\n",
        "dates = [start_date + datetime.timedelta(days=idx) for idx in range(11)]"
      ],
      "metadata": {
        "id": "ViM3wFGZxRyN"
      },
      "execution_count": null,
      "outputs": []
    },
    {
      "cell_type": "code",
      "source": [
        "pred_future2 = pd.Series(pred_future, index = dates)\n",
        "pred_future2"
      ],
      "metadata": {
        "colab": {
          "base_uri": "https://localhost:8080/"
        },
        "id": "QhiosZtZxbsF",
        "outputId": "54773c66-2d7b-41d1-aaaf-2b5ded3ee38d"
      },
      "execution_count": null,
      "outputs": [
        {
          "output_type": "execute_result",
          "data": {
            "text/plain": [
              "2023-02-12    307.613420\n",
              "2023-02-13    310.262986\n",
              "2023-02-14    311.006904\n",
              "2023-02-15    308.745834\n",
              "2023-02-16    309.172476\n",
              "2023-02-17    310.440747\n",
              "2023-02-18    310.038495\n",
              "2023-02-19    308.723673\n",
              "2023-02-20    310.072267\n",
              "2023-02-21    310.066341\n",
              "2023-02-22    309.430470\n",
              "dtype: float64"
            ]
          },
          "metadata": {},
          "execution_count": 174
        }
      ]
    },
    {
      "cell_type": "code",
      "source": [
        "plt.figure(figsize=(10,6), dpi=100)\n",
        "df['Close'][-200:].plot(label='Actual Stock Price', legend=True)\n",
        "pred_future2.plot(label='Future Predicted Price', legend=True)\n",
        "     "
      ],
      "metadata": {
        "colab": {
          "base_uri": "https://localhost:8080/",
          "height": 619
        },
        "id": "sIi4ItzjyEuN",
        "outputId": "e05b0b58-2059-4ed4-88ae-a039dd6520b4"
      },
      "execution_count": null,
      "outputs": [
        {
          "output_type": "execute_result",
          "data": {
            "text/plain": [
              "<AxesSubplot:xlabel='Date'>"
            ]
          },
          "metadata": {},
          "execution_count": 175
        },
        {
          "output_type": "display_data",
          "data": {
            "text/plain": [
              "<Figure size 1000x600 with 1 Axes>"
            ],
            "image/png": "[encoded data removed]"
          },
          "metadata": {}
        }
      ]
    }
  ]
}